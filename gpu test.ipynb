{
 "cells": [
  {
   "cell_type": "code",
   "execution_count": 7,
   "id": "f494e0f3-833f-4e22-bdbb-770631d59b80",
   "metadata": {},
   "outputs": [],
   "source": [
    "import torch\n",
    "device = torch.device('cpu')\n",
    "x = torch.rand((20000, 20000), dtype=torch.float32)\n",
    "y = torch.rand((20000, 20000), dtype=torch.float32)\n",
    "x = x.to(device)\n",
    "y = y.to(device)"
   ]
  },
  {
   "cell_type": "code",
   "execution_count": 8,
   "id": "5333e536-7105-413a-ada9-20943b230856",
   "metadata": {},
   "outputs": [
    {
     "name": "stdout",
     "output_type": "stream",
     "text": [
      "2.76 s ± 794 ms per loop (mean ± std. dev. of 7 runs, 1 loop each)\n"
     ]
    }
   ],
   "source": [
    "%%timeit\n",
    "x * y"
   ]
  },
  {
   "cell_type": "code",
   "execution_count": 5,
   "id": "8b231896-7b63-4be0-803c-fdc1d1919d73",
   "metadata": {},
   "outputs": [],
   "source": [
    "import torch\n",
    "device = torch.device('mps')\n",
    "x = torch.rand((20000, 20000), dtype=torch.float32)\n",
    "y = torch.rand((20000, 20000), dtype=torch.float32)\n",
    "x = x.to(device)\n",
    "y = y.to(device)"
   ]
  },
  {
   "cell_type": "code",
   "execution_count": 6,
   "id": "a107e5f1-1d96-409c-b218-e0ba02e60550",
   "metadata": {},
   "outputs": [
    {
     "name": "stdout",
     "output_type": "stream",
     "text": [
      "84.2 ms ± 906 µs per loop (mean ± std. dev. of 7 runs, 100 loops each)\n"
     ]
    }
   ],
   "source": [
    "%%timeit\n",
    "x * y"
   ]
  }
 ],
 "metadata": {
  "kernelspec": {
   "display_name": "Python 3 (ipykernel)",
   "language": "python",
   "name": "python3"
  },
  "language_info": {
   "codemirror_mode": {
    "name": "ipython",
    "version": 3
   },
   "file_extension": ".py",
   "mimetype": "text/x-python",
   "name": "python",
   "nbconvert_exporter": "python",
   "pygments_lexer": "ipython3",
   "version": "3.8.10"
  }
 },
 "nbformat": 4,
 "nbformat_minor": 5
}
