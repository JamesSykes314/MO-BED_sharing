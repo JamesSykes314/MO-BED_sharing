{
 "cells": [
  {
   "cell_type": "code",
   "execution_count": 22,
   "id": "f494e0f3-833f-4e22-bdbb-770631d59b80",
   "metadata": {
    "ExecuteTime": {
     "end_time": "2024-09-06T09:05:39.428773Z",
     "start_time": "2024-09-06T09:05:35.668785Z"
    }
   },
   "outputs": [],
   "source": [
    "import torch\n",
    "device = torch.device('cpu')\n",
    "n = 20000\n",
    "x = torch.rand((n, n), dtype=torch.float32)\n",
    "y = torch.rand((n, n), dtype=torch.float32)\n",
    "x = x.to(device)\n",
    "y = y.to(device)"
   ]
  },
  {
   "cell_type": "code",
   "execution_count": 24,
   "id": "5333e536-7105-413a-ada9-20943b230856",
   "metadata": {
    "ExecuteTime": {
     "end_time": "2024-09-06T09:08:37.561087Z",
     "start_time": "2024-09-06T09:06:41.266535Z"
    }
   },
   "outputs": [
    {
     "name": "stdout",
     "output_type": "stream",
     "text": [
      "1.44 s ± 362 ms per loop (mean ± std. dev. of 7 runs, 1 loop each)\n"
     ]
    }
   ],
   "source": [
    "%%timeit\n",
    "x * y"
   ]
  },
  {
   "cell_type": "code",
   "execution_count": 25,
   "id": "8b231896-7b63-4be0-803c-fdc1d1919d73",
   "metadata": {
    "ExecuteTime": {
     "end_time": "2024-09-06T09:09:06.703109Z",
     "start_time": "2024-09-06T09:08:58.583108Z"
    }
   },
   "outputs": [],
   "source": [
    "import torch\n",
    "device = torch.device('mps')\n",
    "x = torch.rand((n, n), dtype=torch.float32)\n",
    "y = torch.rand((n, n), dtype=torch.float32)\n",
    "x = x.to(device)\n",
    "y = y.to(device)"
   ]
  },
  {
   "cell_type": "code",
   "execution_count": 26,
   "id": "a107e5f1-1d96-409c-b218-e0ba02e60550",
   "metadata": {
    "ExecuteTime": {
     "end_time": "2024-09-06T09:10:53.605497Z",
     "start_time": "2024-09-06T09:09:16.401784Z"
    }
   },
   "outputs": [
    {
     "name": "stdout",
     "output_type": "stream",
     "text": [
      "88.6 ms ± 2.6 ms per loop (mean ± std. dev. of 7 runs, 100 loops each)\n"
     ]
    }
   ],
   "source": [
    "%%timeit\n",
    "x * y"
   ]
  },
  {
   "cell_type": "code",
   "execution_count": null,
   "id": "11a788622b54c648",
   "metadata": {
    "collapsed": false,
    "jupyter": {
     "outputs_hidden": false
    }
   },
   "outputs": [],
   "source": []
  }
 ],
 "metadata": {
  "kernelspec": {
   "display_name": "Python 3 (ipykernel)",
   "language": "python",
   "name": "python3"
  },
  "language_info": {
   "codemirror_mode": {
    "name": "ipython",
    "version": 3
   },
   "file_extension": ".py",
   "mimetype": "text/x-python",
   "name": "python",
   "nbconvert_exporter": "python",
   "pygments_lexer": "ipython3",
   "version": "3.8.10"
  }
 },
 "nbformat": 4,
 "nbformat_minor": 5
}
